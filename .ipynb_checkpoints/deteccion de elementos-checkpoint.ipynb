{
 "cells": [
  {
   "cell_type": "markdown",
   "id": "c088083c",
   "metadata": {},
   "source": [
    "# Detección de elementos\n",
    "En este ejemplo vamos a usa el modelo [YOLO](https://arxiv.org/pdf/1612.08242.pdf), gracias al cual podremos detectar los elementos que aparecen dentro de una fotgrafia o video.\n",
    "\n",
    "La identificación que obtendremos con YOLO consite en una etiqueta indicando que es lo que se ha detectado y las posiciones en la que se enuentra este objeto.\n",
    "\n",
    "La implementación que usaresmos será la proporcionado por la biblioteca OpenCV."
   ]
  },
  {
   "cell_type": "markdown",
   "id": "7770d869",
   "metadata": {},
   "source": [
    "## Carga del modelos\n",
    "A continuación realizamos la carga del modelo preentrenado par la ejecución de YOLO. \n",
    "\n",
    "Se le debe indicar el fichero de clases (que será lo que se podrá detectar), los pesos preentenados y el fichero de configuración del modelo."
   ]
  },
  {
   "cell_type": "code",
   "execution_count": 1,
   "id": "99c6ae61",
   "metadata": {},
   "outputs": [],
   "source": [
    "import cv2\n",
    "import numpy as np\n",
    "\n",
    "_fichero_clases = './recursos_yolo/yolov3.txt'\n",
    "_fichero_pesos = './recursos_yolo/yolov3.weights'\n",
    "_fichero_configuracion = 'recursos_yolo/yolov3.cfg' \n",
    "\n",
    "# Lectura de las clases\n",
    "classes = None\n",
    "with open(_fichero_clases, 'r') as f:\n",
    "    classes = [line.strip() for line in f.readlines()]\n",
    "    \n",
    "# Carga del modelo\n",
    "net = cv2.dnn.readNet(_fichero_pesos, _fichero_configuracion)\n"
   ]
  },
  {
   "cell_type": "markdown",
   "id": "574fb80b",
   "metadata": {},
   "source": [
    "## Carga de la imagen\n",
    "\n",
    "Realizamos la carga de la imagen que queremso procesar, asi como su conversión a matriz y su preprocesmainto:escalado, normalizado de colores, etc. para que funcione de manera correcta el modelo"
   ]
  },
  {
   "cell_type": "code",
   "execution_count": 2,
   "id": "a3de760f",
   "metadata": {},
   "outputs": [
    {
     "name": "stdout",
     "output_type": "stream",
     "text": [
      "[[[[0.1764     0.1764     0.18032    ... 0.3332     0.32536\n",
      "    0.32536   ]\n",
      "   [0.18032    0.18032    0.18032    ... 0.3332     0.32928002\n",
      "    0.32928002]\n",
      "   [0.18424    0.18424    0.18816    ... 0.3332     0.3332\n",
      "    0.3332    ]\n",
      "   ...\n",
      "   [0.72912    0.77616    0.9408     ... 0.5292     0.57232\n",
      "    0.48216   ]\n",
      "   [0.75656    0.92904    0.94472003 ... 0.45472002 0.57624\n",
      "    0.5096    ]\n",
      "   [0.9016     0.93296003 0.94864    ... 0.45864    0.49784002\n",
      "    0.52136   ]]\n",
      "\n",
      "  [[0.29792    0.29792    0.30184    ... 0.44688    0.43904\n",
      "    0.43904   ]\n",
      "   [0.30184    0.30184    0.30184    ... 0.44688    0.44296\n",
      "    0.44296   ]\n",
      "   [0.30576    0.30576    0.30576    ... 0.44688    0.44688\n",
      "    0.44688   ]\n",
      "   ...\n",
      "   [0.72912    0.77616    0.9408     ... 0.53704    0.57624\n",
      "    0.48216   ]\n",
      "   [0.75656    0.92904    0.94472003 ... 0.45864    0.58016\n",
      "    0.51352   ]\n",
      "   [0.9016     0.93296003 0.94864    ... 0.46256    0.50176\n",
      "    0.52528   ]]\n",
      "\n",
      "  [[0.51352    0.51352    0.51744    ... 0.68208003 0.67424\n",
      "    0.67424   ]\n",
      "   [0.51744    0.51744    0.51744    ... 0.68208003 0.67816\n",
      "    0.67816   ]\n",
      "   [0.52136    0.52136    0.52136    ... 0.68208003 0.68208003\n",
      "    0.68208003]\n",
      "   ...\n",
      "   [0.72128    0.76832    0.93296003 ... 0.58408    0.65856004\n",
      "    0.5684    ]\n",
      "   [0.74872    0.92120004 0.93688    ... 0.54096    0.66248\n",
      "    0.59584   ]\n",
      "   [0.89376    0.92512    0.9408     ... 0.54488003 0.58408\n",
      "    0.60760003]]]]\n"
     ]
    }
   ],
   "source": [
    "_path_imagen = './entradas/ej_1.jpg' \n",
    "\n",
    "image = cv2.imread(_path_imagen)\n",
    "\n",
    "Width = image.shape[1]\n",
    "Height = image.shape[0]\n",
    "scale = 0.00392\n",
    "\n",
    "# Convierte la imagen en una matriz normalizada \n",
    "blob = cv2.dnn.blobFromImage(image, scale, (416,416), (0,0,0), True, crop=False)\n",
    "\n",
    "print(blob)"
   ]
  },
  {
   "cell_type": "markdown",
   "id": "82bc00e8",
   "metadata": {},
   "source": [
    "## Pasamos la imagen por el modelo\n",
    "Una vez que se tiene la imagen convertida en una matriz ya sería posible pasar esta por el modelo.\n",
    "\n",
    "Como resultado de pasar la imagen por el modelo se obtendrán las capas de salida. Que en caso de yolo V3 son multiples capas, como se puede ver a continuación."
   ]
  },
  {
   "cell_type": "code",
   "execution_count": 3,
   "id": "c68d41c1",
   "metadata": {},
   "outputs": [
    {
     "name": "stdout",
     "output_type": "stream",
     "text": [
      "[array([[0.03256258, 0.04345865, 0.29163662, ..., 0.        , 0.        ,\n",
      "        0.        ],\n",
      "       [0.04575253, 0.03199182, 0.25189036, ..., 0.        , 0.        ,\n",
      "        0.        ],\n",
      "       [0.05393654, 0.03454951, 0.8217338 , ..., 0.        , 0.        ,\n",
      "        0.        ],\n",
      "       ...,\n",
      "       [0.9550957 , 0.95123315, 0.4964708 , ..., 0.        , 0.        ,\n",
      "        0.        ],\n",
      "       [0.9610574 , 0.9623571 , 0.34059384, ..., 0.        , 0.        ,\n",
      "        0.        ],\n",
      "       [0.9678113 , 0.9638604 , 0.826814  , ..., 0.        , 0.        ,\n",
      "        0.        ]], dtype=float32), array([[0.02553961, 0.02078421, 0.06344927, ..., 0.        , 0.        ,\n",
      "        0.        ],\n",
      "       [0.01492849, 0.02376388, 0.28968614, ..., 0.        , 0.        ,\n",
      "        0.        ],\n",
      "       [0.02146928, 0.01450079, 0.08299048, ..., 0.        , 0.        ,\n",
      "        0.        ],\n",
      "       ...,\n",
      "       [0.97331136, 0.97649825, 0.0505527 , ..., 0.        , 0.        ,\n",
      "        0.        ],\n",
      "       [0.9819014 , 0.9768205 , 0.33204883, ..., 0.        , 0.        ,\n",
      "        0.        ],\n",
      "       [0.97839665, 0.98205876, 0.07580294, ..., 0.        , 0.        ,\n",
      "        0.        ]], dtype=float32), array([[0.01034639, 0.00514079, 0.02389512, ..., 0.        , 0.        ,\n",
      "        0.        ],\n",
      "       [0.01011116, 0.01135603, 0.02080861, ..., 0.        , 0.        ,\n",
      "        0.        ],\n",
      "       [0.00964959, 0.00807624, 0.19000141, ..., 0.        , 0.        ,\n",
      "        0.        ],\n",
      "       ...,\n",
      "       [0.9886221 , 0.99101406, 0.02194231, ..., 0.        , 0.        ,\n",
      "        0.        ],\n",
      "       [0.98897815, 0.98801506, 0.02118342, ..., 0.        , 0.        ,\n",
      "        0.        ],\n",
      "       [0.98678124, 0.9914041 , 0.1609091 , ..., 0.        , 0.        ,\n",
      "        0.        ]], dtype=float32)]\n"
     ]
    }
   ],
   "source": [
    "net.setInput(blob)\n",
    "\n",
    "\n",
    "def obtener_capas_salida(net):\n",
    "    \n",
    "    layer_names = net.getLayerNames()\n",
    "    \n",
    "    output_layers = [layer_names[i[0] - 1] for i in net.getUnconnectedOutLayers()]\n",
    "\n",
    "    return output_layers\n",
    "\n",
    "# ejecutamos el procesamiento del modelo\n",
    "outs = net.forward(obtener_capas_salida(net))\n",
    "\n",
    "print (outs)"
   ]
  },
  {
   "cell_type": "markdown",
   "id": "095d3928",
   "metadata": {},
   "source": [
    "Recorremos los objetos detectados. Para cada uno ellos obtenemos su valor de cofianza y eliminamos aquellos que no suepren el umbral fijado.\n"
   ]
  },
  {
   "cell_type": "code",
   "execution_count": 4,
   "id": "60641773",
   "metadata": {},
   "outputs": [
    {
     "name": "stdout",
     "output_type": "stream",
     "text": [
      "[0, 0, 0, 0, 0, 0, 0, 0, 0, 0]\n"
     ]
    }
   ],
   "source": [
    "_umbral = 0.5\n",
    "\n",
    "\n",
    "class_ids = []\n",
    "confidences = []\n",
    "boxes = []\n",
    "\n",
    "for out in outs:\n",
    "    for detection in out:\n",
    "        scores = detection[5:]\n",
    "        class_id = np.argmax(scores)\n",
    "        confidence = scores[class_id]\n",
    "        if confidence > _umbral:\n",
    "            center_x = int(detection[0] * Width)\n",
    "            center_y = int(detection[1] * Height)\n",
    "            w = int(detection[2] * Width)\n",
    "            h = int(detection[3] * Height)\n",
    "            x = center_x - w / 2\n",
    "            y = center_y - h / 2\n",
    "            class_ids.append(class_id)\n",
    "            confidences.append(float(confidence))\n",
    "            boxes.append([x, y, w, h])\n",
    "            \n",
    "print (class_ids)"
   ]
  },
  {
   "cell_type": "markdown",
   "id": "4c99d002",
   "metadata": {},
   "source": [
    "## Pintado de las cajas de los objetos\n",
    "\n",
    "Una vez qe si tiene los objetos que se han detectado podemos pintar la caja que contenga el objeto y ponerle la etiqueta detectada\n"
   ]
  },
  {
   "cell_type": "code",
   "execution_count": 7,
   "id": "b7ed9c44",
   "metadata": {},
   "outputs": [],
   "source": [
    "COLORS = np.random.uniform(0, 255, size=(len(classes), 3))\n",
    "\n",
    "#Función para pintar al caja\n",
    "def draw_bounding_box(img, class_id, confidence, x, y, x_plus_w, y_plus_h):\n",
    "\n",
    "    label = str(classes[class_id])\n",
    "    color = COLORS[class_id]\n",
    "    cv2.rectangle(img, (x,y), (x_plus_w,y_plus_h), color, 2)\n",
    "    cv2.putText(img, label, (x-10,y-10), cv2.FONT_HERSHEY_SIMPLEX, 0.5, color, 2)\n",
    "\n",
    "i = 0\n",
    "for box in boxes:\n",
    "    x = box[0]\n",
    "    y = box[1]\n",
    "    w = box[2]\n",
    "    h = box[3]\n",
    "    \n",
    "    draw_bounding_box(image, class_ids[i], confidences[i], round(x), round(y), round(x+w), round(y+h))\n",
    "    \n",
    "    i = i+1\n",
    "\n",
    "   \n",
    "cv2.imshow(\"object detection\", image)\n",
    "cv2.waitKey()    \n",
    "cv2.imwrite(\"./salidas/object-detection.jpg\", image)\n",
    "cv2.destroyAllWindows()"
   ]
  },
  {
   "cell_type": "markdown",
   "id": "af2a698f",
   "metadata": {},
   "source": [
    "## Refinado de las cajas\n",
    "Procesamos las cajas, para evitar las duplicidades y quedarnos con las máximas"
   ]
  },
  {
   "cell_type": "code",
   "execution_count": 6,
   "id": "11e4577d",
   "metadata": {},
   "outputs": [],
   "source": [
    "_nms_threshold = 0.4\n",
    "            \n",
    "# non-max suppression\n",
    "indices = cv2.dnn.NMSBoxes(boxes, confidences, _umbral, _nms_threshold)\n",
    "\n",
    "for i in indices:\n",
    "    i = i[0]\n",
    "    box = boxes[i]\n",
    "    x = box[0]\n",
    "    y = box[1]\n",
    "    w = box[2]\n",
    "    h = box[3]\n",
    "    \n",
    "    draw_bounding_box(image, class_ids[i], confidences[i], round(x), round(y), round(x+w), round(y+h))\n",
    "\n",
    " \n",
    "cv2.imshow(\"object detection2\", image)\n",
    "cv2.waitKey()\n",
    "cv2.imwrite(\"./salidas/object-detection2.jpg\", image)\n",
    "cv2.destroyAllWindows()"
   ]
  }
 ],
 "metadata": {
  "kernelspec": {
   "display_name": "Python 3",
   "language": "python",
   "name": "python3"
  },
  "language_info": {
   "codemirror_mode": {
    "name": "ipython",
    "version": 3
   },
   "file_extension": ".py",
   "mimetype": "text/x-python",
   "name": "python",
   "nbconvert_exporter": "python",
   "pygments_lexer": "ipython3",
   "version": "3.8.8"
  }
 },
 "nbformat": 4,
 "nbformat_minor": 5
}
